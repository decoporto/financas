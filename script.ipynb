{
 "cells": [
  {
   "cell_type": "code",
   "execution_count": 1,
   "metadata": {},
   "outputs": [
    {
     "name": "stdout",
     "output_type": "stream",
     "text": [
      "Requirement already satisfied: selenium in c:\\users\\andre.vinicius\\appdata\\local\\packages\\pythonsoftwarefoundation.python.3.11_qbz5n2kfra8p0\\localcache\\local-packages\\python311\\site-packages (4.8.3)\n",
      "Requirement already satisfied: urllib3[socks]~=1.26 in c:\\users\\andre.vinicius\\appdata\\local\\packages\\pythonsoftwarefoundation.python.3.11_qbz5n2kfra8p0\\localcache\\local-packages\\python311\\site-packages (from selenium) (1.26.15)\n",
      "Requirement already satisfied: trio~=0.17 in c:\\users\\andre.vinicius\\appdata\\local\\packages\\pythonsoftwarefoundation.python.3.11_qbz5n2kfra8p0\\localcache\\local-packages\\python311\\site-packages (from selenium) (0.22.0)\n",
      "Requirement already satisfied: trio-websocket~=0.9 in c:\\users\\andre.vinicius\\appdata\\local\\packages\\pythonsoftwarefoundation.python.3.11_qbz5n2kfra8p0\\localcache\\local-packages\\python311\\site-packages (from selenium) (0.10.2)\n",
      "Requirement already satisfied: certifi>=2021.10.8 in c:\\users\\andre.vinicius\\appdata\\local\\packages\\pythonsoftwarefoundation.python.3.11_qbz5n2kfra8p0\\localcache\\local-packages\\python311\\site-packages (from selenium) (2022.12.7)\n",
      "Requirement already satisfied: attrs>=19.2.0 in c:\\users\\andre.vinicius\\appdata\\local\\packages\\pythonsoftwarefoundation.python.3.11_qbz5n2kfra8p0\\localcache\\local-packages\\python311\\site-packages (from trio~=0.17->selenium) (22.2.0)\n",
      "Requirement already satisfied: sortedcontainers in c:\\users\\andre.vinicius\\appdata\\local\\packages\\pythonsoftwarefoundation.python.3.11_qbz5n2kfra8p0\\localcache\\local-packages\\python311\\site-packages (from trio~=0.17->selenium) (2.4.0)\n",
      "Requirement already satisfied: async-generator>=1.9 in c:\\users\\andre.vinicius\\appdata\\local\\packages\\pythonsoftwarefoundation.python.3.11_qbz5n2kfra8p0\\localcache\\local-packages\\python311\\site-packages (from trio~=0.17->selenium) (1.10)\n",
      "Requirement already satisfied: idna in c:\\users\\andre.vinicius\\appdata\\local\\packages\\pythonsoftwarefoundation.python.3.11_qbz5n2kfra8p0\\localcache\\local-packages\\python311\\site-packages (from trio~=0.17->selenium) (3.4)\n",
      "Requirement already satisfied: outcome in c:\\users\\andre.vinicius\\appdata\\local\\packages\\pythonsoftwarefoundation.python.3.11_qbz5n2kfra8p0\\localcache\\local-packages\\python311\\site-packages (from trio~=0.17->selenium) (1.2.0)\n",
      "Requirement already satisfied: sniffio in c:\\users\\andre.vinicius\\appdata\\local\\packages\\pythonsoftwarefoundation.python.3.11_qbz5n2kfra8p0\\localcache\\local-packages\\python311\\site-packages (from trio~=0.17->selenium) (1.3.0)\n",
      "Requirement already satisfied: cffi>=1.14 in c:\\users\\andre.vinicius\\appdata\\local\\packages\\pythonsoftwarefoundation.python.3.11_qbz5n2kfra8p0\\localcache\\local-packages\\python311\\site-packages (from trio~=0.17->selenium) (1.15.1)\n",
      "Requirement already satisfied: exceptiongroup in c:\\users\\andre.vinicius\\appdata\\local\\packages\\pythonsoftwarefoundation.python.3.11_qbz5n2kfra8p0\\localcache\\local-packages\\python311\\site-packages (from trio-websocket~=0.9->selenium) (1.1.1)\n",
      "Requirement already satisfied: wsproto>=0.14 in c:\\users\\andre.vinicius\\appdata\\local\\packages\\pythonsoftwarefoundation.python.3.11_qbz5n2kfra8p0\\localcache\\local-packages\\python311\\site-packages (from trio-websocket~=0.9->selenium) (1.2.0)\n",
      "Requirement already satisfied: PySocks!=1.5.7,<2.0,>=1.5.6 in c:\\users\\andre.vinicius\\appdata\\local\\packages\\pythonsoftwarefoundation.python.3.11_qbz5n2kfra8p0\\localcache\\local-packages\\python311\\site-packages (from urllib3[socks]~=1.26->selenium) (1.7.1)\n",
      "Requirement already satisfied: pycparser in c:\\users\\andre.vinicius\\appdata\\local\\packages\\pythonsoftwarefoundation.python.3.11_qbz5n2kfra8p0\\localcache\\local-packages\\python311\\site-packages (from cffi>=1.14->trio~=0.17->selenium) (2.21)\n",
      "Requirement already satisfied: h11<1,>=0.9.0 in c:\\users\\andre.vinicius\\appdata\\local\\packages\\pythonsoftwarefoundation.python.3.11_qbz5n2kfra8p0\\localcache\\local-packages\\python311\\site-packages (from wsproto>=0.14->trio-websocket~=0.9->selenium) (0.14.0)\n",
      "Note: you may need to restart the kernel to use updated packages.\n"
     ]
    },
    {
     "name": "stderr",
     "output_type": "stream",
     "text": [
      "\n",
      "[notice] A new release of pip available: 22.3.1 -> 23.0.1\n",
      "[notice] To update, run: C:\\Users\\andre.vinicius\\AppData\\Local\\Microsoft\\WindowsApps\\PythonSoftwareFoundation.Python.3.11_qbz5n2kfra8p0\\python.exe -m pip install --upgrade pip\n"
     ]
    }
   ],
   "source": [
    "pip install --upgrade selenium"
   ]
  },
  {
   "cell_type": "code",
   "execution_count": 2,
   "metadata": {},
   "outputs": [
    {
     "name": "stdout",
     "output_type": "stream",
     "text": [
      "Requirement already satisfied: webdriver_manager in c:\\users\\andre.vinicius\\appdata\\local\\packages\\pythonsoftwarefoundation.python.3.11_qbz5n2kfra8p0\\localcache\\local-packages\\python311\\site-packages (3.8.5)\n",
      "Requirement already satisfied: requests in c:\\users\\andre.vinicius\\appdata\\local\\packages\\pythonsoftwarefoundation.python.3.11_qbz5n2kfra8p0\\localcache\\local-packages\\python311\\site-packages (from webdriver_manager) (2.28.2)\n",
      "Requirement already satisfied: python-dotenv in c:\\users\\andre.vinicius\\appdata\\local\\packages\\pythonsoftwarefoundation.python.3.11_qbz5n2kfra8p0\\localcache\\local-packages\\python311\\site-packages (from webdriver_manager) (1.0.0)\n",
      "Requirement already satisfied: tqdm in c:\\users\\andre.vinicius\\appdata\\local\\packages\\pythonsoftwarefoundation.python.3.11_qbz5n2kfra8p0\\localcache\\local-packages\\python311\\site-packages (from webdriver_manager) (4.65.0)\n",
      "Requirement already satisfied: packaging in c:\\users\\andre.vinicius\\appdata\\local\\packages\\pythonsoftwarefoundation.python.3.11_qbz5n2kfra8p0\\localcache\\local-packages\\python311\\site-packages (from webdriver_manager) (23.0)\n",
      "Requirement already satisfied: charset-normalizer<4,>=2 in c:\\users\\andre.vinicius\\appdata\\local\\packages\\pythonsoftwarefoundation.python.3.11_qbz5n2kfra8p0\\localcache\\local-packages\\python311\\site-packages (from requests->webdriver_manager) (3.1.0)\n",
      "Requirement already satisfied: idna<4,>=2.5 in c:\\users\\andre.vinicius\\appdata\\local\\packages\\pythonsoftwarefoundation.python.3.11_qbz5n2kfra8p0\\localcache\\local-packages\\python311\\site-packages (from requests->webdriver_manager) (3.4)\n",
      "Requirement already satisfied: urllib3<1.27,>=1.21.1 in c:\\users\\andre.vinicius\\appdata\\local\\packages\\pythonsoftwarefoundation.python.3.11_qbz5n2kfra8p0\\localcache\\local-packages\\python311\\site-packages (from requests->webdriver_manager) (1.26.15)\n",
      "Requirement already satisfied: certifi>=2017.4.17 in c:\\users\\andre.vinicius\\appdata\\local\\packages\\pythonsoftwarefoundation.python.3.11_qbz5n2kfra8p0\\localcache\\local-packages\\python311\\site-packages (from requests->webdriver_manager) (2022.12.7)\n",
      "Requirement already satisfied: colorama in c:\\users\\andre.vinicius\\appdata\\local\\packages\\pythonsoftwarefoundation.python.3.11_qbz5n2kfra8p0\\localcache\\local-packages\\python311\\site-packages (from tqdm->webdriver_manager) (0.4.6)\n",
      "Note: you may need to restart the kernel to use updated packages.\n"
     ]
    },
    {
     "name": "stderr",
     "output_type": "stream",
     "text": [
      "\n",
      "[notice] A new release of pip available: 22.3.1 -> 23.0.1\n",
      "[notice] To update, run: C:\\Users\\andre.vinicius\\AppData\\Local\\Microsoft\\WindowsApps\\PythonSoftwareFoundation.Python.3.11_qbz5n2kfra8p0\\python.exe -m pip install --upgrade pip\n"
     ]
    }
   ],
   "source": [
    "pip install webdriver_manager\n"
   ]
  },
  {
   "cell_type": "code",
   "execution_count": 3,
   "metadata": {},
   "outputs": [],
   "source": [
    "from selenium import webdriver\n",
    "from selenium.webdriver.chrome.options import Options\n",
    "from selenium.webdriver.common.by import By\n",
    "from selenium.webdriver.chrome.service import Service\n",
    "from webdriver_manager.chrome import ChromeDriverManager\n",
    "from selenium.webdriver import DesiredCapabilities\n",
    "from datetime import timedelta, datetime\n",
    "#estão sendo usadas\n",
    "from selenium.webdriver.support.ui import WebDriverWait\n",
    "from selenium.webdriver.support import expected_conditions as EC\n",
    "from selenium.webdriver.common.keys import Keys"
   ]
  },
  {
   "cell_type": "code",
   "execution_count": 8,
   "metadata": {},
   "outputs": [
    {
     "name": "stderr",
     "output_type": "stream",
     "text": [
      "C:\\Users\\andre.vinicius\\AppData\\Local\\Temp\\ipykernel_19616\\1661230634.py:4: DeprecationWarning: headless property is deprecated, instead use add_argument('--headless') or add_argument('--headless=new')\n",
      "  op.headless = False\n"
     ]
    },
    {
     "ename": "TimeoutException",
     "evalue": "Message: \nStacktrace:\nBacktrace:\n\t(No symbol) [0x009EDCE3]\n\t(No symbol) [0x009839D1]\n\t(No symbol) [0x00894DA8]\n\t(No symbol) [0x008C019F]\n\t(No symbol) [0x008C03AB]\n\t(No symbol) [0x008EEE62]\n\t(No symbol) [0x008DAF14]\n\t(No symbol) [0x008ED57C]\n\t(No symbol) [0x008DACC6]\n\t(No symbol) [0x008B6F68]\n\t(No symbol) [0x008B80CD]\n\tGetHandleVerifier [0x00C63832+2506274]\n\tGetHandleVerifier [0x00C99794+2727300]\n\tGetHandleVerifier [0x00C9E36C+2746716]\n\tGetHandleVerifier [0x00A96690+617600]\n\t(No symbol) [0x0098C712]\n\t(No symbol) [0x00991FF8]\n\t(No symbol) [0x009920DB]\n\t(No symbol) [0x0099C63B]\n\tBaseThreadInitThunk [0x761700F9+25]\n\tRtlGetAppContainerNamedObjectPath [0x777B7BBE+286]\n\tRtlGetAppContainerNamedObjectPath [0x777B7B8E+238]\n",
     "output_type": "error",
     "traceback": [
      "\u001b[1;31m---------------------------------------------------------------------------\u001b[0m",
      "\u001b[1;31mTimeoutException\u001b[0m                          Traceback (most recent call last)",
      "Cell \u001b[1;32mIn[8], line 21\u001b[0m\n\u001b[0;32m     18\u001b[0m \u001b[39m# scroll the webpage until the element is in view\u001b[39;00m\n\u001b[0;32m     19\u001b[0m driver\u001b[39m.\u001b[39mexecute_script(\u001b[39m\"\u001b[39m\u001b[39marguments[0].scrollIntoView();\u001b[39m\u001b[39m\"\u001b[39m, element)\n\u001b[1;32m---> 21\u001b[0m wait\u001b[39m.\u001b[39;49muntil(EC\u001b[39m.\u001b[39;49mpresence_of_element_located((By\u001b[39m.\u001b[39;49mXPATH, \u001b[39m'\u001b[39;49m\u001b[39m//input[@class=\u001b[39;49m\u001b[39m\"\u001b[39;49m\u001b[39msymbol-edit\u001b[39;49m\u001b[39m\"\u001b[39;49m\u001b[39m]\u001b[39;49m\u001b[39m'\u001b[39;49m)))\n\u001b[0;32m     22\u001b[0m input_field \u001b[39m=\u001b[39m driver\u001b[39m.\u001b[39mfind_element(By\u001b[39m.\u001b[39mXPATH, \u001b[39m'\u001b[39m\u001b[39m//input[@class=\u001b[39m\u001b[39m\"\u001b[39m\u001b[39msymbol-edit\u001b[39m\u001b[39m\"\u001b[39m\u001b[39m]\u001b[39m\u001b[39m'\u001b[39m)\n\u001b[0;32m     23\u001b[0m input_field\u001b[39m.\u001b[39mclick()\n",
      "File \u001b[1;32m~\\AppData\\Local\\Packages\\PythonSoftwareFoundation.Python.3.11_qbz5n2kfra8p0\\LocalCache\\local-packages\\Python311\\site-packages\\selenium\\webdriver\\support\\wait.py:95\u001b[0m, in \u001b[0;36mWebDriverWait.until\u001b[1;34m(self, method, message)\u001b[0m\n\u001b[0;32m     93\u001b[0m     \u001b[39mif\u001b[39;00m time\u001b[39m.\u001b[39mmonotonic() \u001b[39m>\u001b[39m end_time:\n\u001b[0;32m     94\u001b[0m         \u001b[39mbreak\u001b[39;00m\n\u001b[1;32m---> 95\u001b[0m \u001b[39mraise\u001b[39;00m TimeoutException(message, screen, stacktrace)\n",
      "\u001b[1;31mTimeoutException\u001b[0m: Message: \nStacktrace:\nBacktrace:\n\t(No symbol) [0x009EDCE3]\n\t(No symbol) [0x009839D1]\n\t(No symbol) [0x00894DA8]\n\t(No symbol) [0x008C019F]\n\t(No symbol) [0x008C03AB]\n\t(No symbol) [0x008EEE62]\n\t(No symbol) [0x008DAF14]\n\t(No symbol) [0x008ED57C]\n\t(No symbol) [0x008DACC6]\n\t(No symbol) [0x008B6F68]\n\t(No symbol) [0x008B80CD]\n\tGetHandleVerifier [0x00C63832+2506274]\n\tGetHandleVerifier [0x00C99794+2727300]\n\tGetHandleVerifier [0x00C9E36C+2746716]\n\tGetHandleVerifier [0x00A96690+617600]\n\t(No symbol) [0x0098C712]\n\t(No symbol) [0x00991FF8]\n\t(No symbol) [0x009920DB]\n\t(No symbol) [0x0099C63B]\n\tBaseThreadInitThunk [0x761700F9+25]\n\tRtlGetAppContainerNamedObjectPath [0x777B7BBE+286]\n\tRtlGetAppContainerNamedObjectPath [0x777B7B8E+238]\n"
     ]
    }
   ],
   "source": [
    "url = 'https://www.investing.com/charts/stocks-charts'\n",
    "s = Service(r'C:\\Users\\andre.vinicius\\Downloads\\chromedriver\\chromedriver')\n",
    "op = webdriver.ChromeOptions()\n",
    "op.headless = False\n",
    "driver = webdriver.Chrome(service=s, options=op)\n",
    "driver.get(url)\n",
    "\n",
    "# Wait for the page to load and the elements to become clickable\n",
    "wait = WebDriverWait(driver, 5)\n",
    "\n",
    "# maximize the window\n",
    "driver.maximize_window()\n",
    "\n",
    "# wait for the element to become visible\n",
    "wait = WebDriverWait(driver, 5)\n",
    "element = wait.until(EC.visibility_of_element_located((By.XPATH, '//*[@id=\"fullColumn\"]/h1')))\n",
    "\n",
    "# scroll the webpage until the element is in view\n",
    "driver.execute_script(\"arguments[0].scrollIntoView();\", element)\n",
    "\n",
    "wait.until(EC.presence_of_element_located((By.XPATH, '//input[@class=\"symbol-edit\"]')))\n",
    "input_field = driver.find_element(By.XPATH, '//input[@class=\"symbol-edit\"]')\n",
    "input_field.click()\n",
    "input_field.clear()\n",
    "\n",
    "# enter the new company name and submit the form\n",
    "input_field.send_keys('JNJ')\n",
    "input_field.send_keys(Keys.RETURN)\n",
    "\n",
    "# take a screenshot and save it to a file\n",
    "#driver.save_screenshot(\"screenshot.png\")\n",
    "\n",
    "# find the input field and clear its current value\n",
    "\n",
    "\n",
    "\n",
    "# enter the new company name and submit the form\n",
    "#input_field.send_keys('JNJ')\n",
    "#input_field.send_keys(Keys.RETURN)\n",
    "\n",
    "#action_chains = ActionChains(driver)\n",
    "#action_chains.move_to_element((By.XPATH, '//*[@id=\"navMenu\"]/ul/li[7]/a')).perform()\n",
    "#button1 = wait.until(EC.element_to_be_clickable((By.XPATH, '//*[@id=\"action-button\"]')))\n",
    "#button1.click()\n",
    "#button2 = wait.until(EC.element_to_be_clickable((By.XPATH, '//*[@id=\"fallback_block\"]/div/div/h4[2]/a/span')))\n",
    "#button2.click()\n",
    "# Click on the buttons"
   ]
  }
 ],
 "metadata": {
  "kernelspec": {
   "display_name": "Python 3",
   "language": "python",
   "name": "python3"
  },
  "language_info": {
   "codemirror_mode": {
    "name": "ipython",
    "version": 3
   },
   "file_extension": ".py",
   "mimetype": "text/x-python",
   "name": "python",
   "nbconvert_exporter": "python",
   "pygments_lexer": "ipython3",
   "version": "3.11.2"
  },
  "orig_nbformat": 4
 },
 "nbformat": 4,
 "nbformat_minor": 2
}
